{
 "cells": [
  {
   "cell_type": "code",
   "execution_count": null,
   "id": "f1fef8d2",
   "metadata": {},
   "outputs": [],
   "source": []
  },
  {
   "cell_type": "code",
   "execution_count": 10,
   "id": "1cbc4615",
   "metadata": {},
   "outputs": [
    {
     "name": "stdout",
     "output_type": "stream",
     "text": [
      "VideoObject(id='34131732691772680-9202948504770854345', model='cogvideox', video_result=None, task_status='PROCESSING', request_id='-9202948504770854347')\n"
     ]
    }
   ],
   "source": [
    "from zhipuai import ZhipuAI\n",
    "client = ZhipuAI(api_key=\"067c5fc3428089d36af259123111825f.Qm9qMCP41JWeWdvU\") # 请填写您自己的APIKey\n",
    "\n",
    "response = client.videos.generations(\n",
    "    model=\"cogvideox\",\n",
    "    prompt=\"小狗兴奋的在雪山上跑来跑去，旁边跟着他的女主人\"\n",
    ")\n",
    "print(response)"
   ]
  },
  {
   "cell_type": "code",
   "execution_count": 12,
   "id": "18531abd",
   "metadata": {},
   "outputs": [
    {
     "name": "stdout",
     "output_type": "stream",
     "text": [
      "VideoObject(id=None, model='cogvideox', video_result=[VideoResult(url='https://aigc-files.bigmodel.cn/api/cogvideo/a2bab282-acac-11ef-8bda-8e43cc144737_0.mp4', cover_image_url='https://aigc-files.bigmodel.cn/api/cogvideo/a2bab282-acac-11ef-8bda-8e43cc144737_cover_0.jpeg')], task_status='SUCCESS', request_id='-9202948504770854347')\n"
     ]
    }
   ],
   "source": [
    "from zhipuai import ZhipuAI\n",
    "client = ZhipuAI(api_key=\"067c5fc3428089d36af259123111825f.Qm9qMCP41JWeWdvU\") # 请填写您自己的APIKey\n",
    "\n",
    "response = client.videos.retrieve_videos_result(\n",
    "    id=\"34131732691772680-9202948504770854345\"\n",
    ")\n",
    "print(response)"
   ]
  },
  {
   "cell_type": "code",
   "execution_count": null,
   "id": "3b8e03a4",
   "metadata": {},
   "outputs": [],
   "source": []
  }
 ],
 "metadata": {
  "kernelspec": {
   "display_name": "Python 3 (ipykernel)",
   "language": "python",
   "name": "python3"
  },
  "language_info": {
   "codemirror_mode": {
    "name": "ipython",
    "version": 3
   },
   "file_extension": ".py",
   "mimetype": "text/x-python",
   "name": "python",
   "nbconvert_exporter": "python",
   "pygments_lexer": "ipython3",
   "version": "3.9.13"
  }
 },
 "nbformat": 4,
 "nbformat_minor": 5
}
