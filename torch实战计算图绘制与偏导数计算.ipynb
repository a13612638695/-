{
 "cells": [
  {
   "cell_type": "code",
   "execution_count": 1,
   "id": "1cec6a1a-af3d-4f6d-9aaf-789841536433",
   "metadata": {},
   "outputs": [],
   "source": [
    "import numpy as np\n",
    "import matplotlib.pyplot as plt\n",
    "import torch\n",
    "import torch.nn as nn\n",
    "import torch.optim as optim\n",
    "\n",
    "# 构造数据\n",
    "np.random.seed(0)\n",
    "x = np.linspace(-10, 10, 100)\n",
    "y = 2 * x + 1 + np.random.normal(0, 20, 100)  # 添加噪声\n",
    "\n",
    "# 转换为PyTorch张量\n",
    "x_tensor = torch.tensor(x, dtype=torch.float32).view(-1, 1)\n",
    "y_tensor = torch.tensor(y, dtype=torch.float32).view(-1, 1)"
   ]
  },
  {
   "cell_type": "code",
   "execution_count": null,
   "id": "45129f51-b726-4651-b894-24588b929aee",
   "metadata": {},
   "outputs": [
    {
     "name": "stdout",
     "output_type": "stream",
     "text": [
      "Epoch [100/1000], Loss: 403.4833\n",
      "Epoch [200/1000], Loss: 403.3271\n",
      "Epoch [300/1000], Loss: 403.3244\n",
      "Epoch [400/1000], Loss: 403.3243\n",
      "Epoch [500/1000], Loss: 403.3243\n",
      "Epoch [600/1000], Loss: 403.3244\n",
      "Epoch [700/1000], Loss: 403.3244\n",
      "Epoch [800/1000], Loss: 403.3244\n",
      "Epoch [900/1000], Loss: 403.3244\n",
      "Epoch [1000/1000], Loss: 403.3244\n"
     ]
    }
   ],
   "source": [
    "# 定义线性回归模型\n",
    "class LinearRegressionModel(nn.Module):\n",
    "    def __init__(self):\n",
    "        super(LinearRegressionModel, self).__init__()\n",
    "        self.linear = nn.Linear(1, 1)\n",
    "\n",
    "    def forward(self, x):\n",
    "        return self.linear(x)\n",
    "\n",
    "# 实例化模型并移动到GPU（如果可用）\n",
    "device = torch.device(\"cuda\" if torch.cuda.is_available() else \"cpu\")\n",
    "model = LinearRegressionModel().to(device)\n",
    "\n",
    "# 定义损失函数（均方误差）\n",
    "criterion = nn.MSELoss()\n",
    "\n",
    "# 选择优化器（梯度下降）\n",
    "optimizer = optim.SGD(model.parameters(), lr=0.01)\n",
    "\n",
    "# 训练模型\n",
    "num_epochs = 1000\n",
    "for epoch in range(num_epochs):\n",
    "    model.train()\n",
    "    x_tensor = x_tensor.to(device)\n",
    "    y_tensor = y_tensor.to(device)\n",
    "    predictions = model(x_tensor)\n",
    "    \n",
    "    loss = criterion(predictions, y_tensor)\n",
    "    optimizer.zero_grad()\n",
    "    \n",
    "    loss.backward()\n",
    "    optimizer.step()\n",
    "\n",
    "    if (epoch+1) % 100 == 0:\n",
    "        print(f'Epoch [{epoch+1}/{num_epochs}], Loss: {loss.item():.4f}')\n",
    "\n",
    "# 测试模型\n",
    "with torch.no_grad():\n",
    "    x_tensor = x_tensor.to(device)\n",
    "    predicted = model(x_tensor).cpu().numpy()\n",
    "    \n",
    "plt.scatter(x, y, color='blue')  # 绘制原始数据点\n",
    "plt.plot(x, predicted, color='red')  # 绘制拟合直线\n",
    "plt.xlabel('X')\n",
    "plt.ylabel('Y')\n",
    "plt.title('Linear Regression Model')\n",
    "plt.show()"
   ]
  },
  {
   "cell_type": "code",
   "execution_count": null,
   "id": "426f747b-fe1b-4e98-b601-3f437a375b64",
   "metadata": {},
   "outputs": [],
   "source": []
  }
 ],
 "metadata": {
  "kernelspec": {
   "display_name": "Python 3 (ipykernel)",
   "language": "python",
   "name": "python3"
  },
  "language_info": {
   "codemirror_mode": {
    "name": "ipython",
    "version": 3
   },
   "file_extension": ".py",
   "mimetype": "text/x-python",
   "name": "python",
   "nbconvert_exporter": "python",
   "pygments_lexer": "ipython3",
   "version": "3.9.7"
  }
 },
 "nbformat": 4,
 "nbformat_minor": 5
}
