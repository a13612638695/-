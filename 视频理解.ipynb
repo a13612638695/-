{
 "cells": [
  {
   "cell_type": "code",
   "execution_count": 5,
   "id": "c73f9319-5344-4e27-8303-4e6ef0ade9ff",
   "metadata": {},
   "outputs": [],
   "source": [
    "import os\n",
    "from zhipuai import ZhipuAI\n",
    "import base64\n",
    "\n",
    "os.environ[\"ZHIPUAI_API_KEY\"]=\"067c5fc3428089d36af259123111825f.Qm9qMCP41JWeWdvU\"\n",
    "\n",
    "client=ZhipuAI()"
   ]
  },
  {
   "cell_type": "code",
   "execution_count": 10,
   "id": "483789bf-337a-46e9-b7cf-839c2efd91ad",
   "metadata": {},
   "outputs": [
    {
     "name": "stdout",
     "output_type": "stream",
     "text": [
      "通常来说，视频理解的相应时间较长，需要等待数十秒········\n",
      "CompletionMessage(content='好的,让我来给你描述一下这个视频。在这个视频中,有一只可爱的小狗在一个雪地里玩耍。它看起来非常开心,不停地跑来跑去,还用嘴巴咬着一些雪。在背景中,我们可以看到一座雪山和蓝天白云的美景。\\n\\n这个小狗似乎很享受这个寒冷的天气,它在雪地里跳跃、奔跑,好像永远不会累一样。它的毛发闪闪发光,看起来非常健康和快乐。有时候它会停下来,用鼻子嗅一嗅周围的空气,然后继续玩耍。\\n\\n除了这只小狗,我们还可以看到一个穿着红色衣服的人站在附近。这个人似乎在小狗玩耍的时候看着它,可能在给它拍照或者录像。不过,大部分时间我们的注意力都在这只可爱的小狗身上,因为它实在是太活泼好动了!\\n\\n总的来说,这是一个非常有趣的视频,展示了这只小狗在美丽的雪山背景下尽情玩耍的场景。我希望你喜欢我为你描述的这个视频!', role='assistant', tool_calls=None)\n"
     ]
    }
   ],
   "source": [
    "video_path = r\"C:\\Users\\admin\\Desktop\\ai生成视频.mp4\"\n",
    "with open(video_path, 'rb') as video_file:\n",
    "    video_base = base64.b64encode(video_file.read()).decode('utf-8')\n",
    "    \n",
    "print(\"通常来说，视频理解的相应时间较长，需要等待数十秒········\")\n",
    "\n",
    "response = client.chat.completions.create(\n",
    "    model = \"glm-4v-plus\",\n",
    "    temperature=0.0,\n",
    "    top_p=0,\n",
    "    \n",
    "    messages=[{\n",
    "        \"role\":\"user\",\n",
    "        \"content\":[{\n",
    "            \"type\":\"video_url\",\n",
    "            \"video_url\":{\"url\" : video_base}\n",
    "        },{\n",
    "            \"type\":\"text\",\n",
    "            \"text\":\"请仔细描述这个视频的环境，图中的小狗在干啥，以有趣的方式讲给我听\"\n",
    "        }]\n",
    "    }]\n",
    ")\n",
    "\n",
    "print(response.choices[0].message)"
   ]
  },
  {
   "cell_type": "code",
   "execution_count": 8,
   "id": "144c8bba-4ecb-4e34-b558-0e1f6686d27e",
   "metadata": {},
   "outputs": [],
   "source": []
  },
  {
   "cell_type": "code",
   "execution_count": null,
   "id": "25563aa0-e1a0-4e3c-b5de-24fd0cddfa18",
   "metadata": {},
   "outputs": [],
   "source": []
  }
 ],
 "metadata": {
  "kernelspec": {
   "display_name": "Python 3 (ipykernel)",
   "language": "python",
   "name": "python3"
  },
  "language_info": {
   "codemirror_mode": {
    "name": "ipython",
    "version": 3
   },
   "file_extension": ".py",
   "mimetype": "text/x-python",
   "name": "python",
   "nbconvert_exporter": "python",
   "pygments_lexer": "ipython3",
   "version": "3.9.7"
  }
 },
 "nbformat": 4,
 "nbformat_minor": 5
}
