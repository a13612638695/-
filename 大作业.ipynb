{
 "cells": [
  {
   "cell_type": "code",
   "execution_count": 5,
   "id": "ce714e17-4a90-454d-b501-de3a814ca2b7",
   "metadata": {},
   "outputs": [],
   "source": [
    "import os\n",
    "import numpy as np\n",
    "import pandas as pd\n",
    "import torch\n",
    "from torchvision import transforms, datasets\n",
    "from torch.utils.data import DataLoader, Dataset\n",
    "from torch.utils.data import random_split\n",
    "\n",
    "# 定义数据路径\n",
    "data_dir = r\"C:\\Users\\admin\\Desktop\\weather\"\n",
    "label_file = os.path.join(data_dir, \"weather_label.csv\")\n",
    "\n",
    "# 读取标签文件\n",
    "labels_df = pd.read_csv(label_file)\n",
    "\n",
    "# 自定义数据集类\n",
    "class WeatherDataset(Dataset):\n",
    "    def __init__(self, csv_file, root_dir, transform=None):\n",
    "        self.labels_df = pd.read_csv(csv_file)\n",
    "        self.root_dir = root_dir\n",
    "        self.transform = transform\n",
    "\n",
    "    def __len__(self):\n",
    "        return len(self.labels_df)\n",
    "\n",
    "    def __getitem__(self, idx):\n",
    "        img_name = os.path.join(self.root_dir, self.labels_df.iloc[idx, 0])\n",
    "        image = datasets.folder.default_loader(img_name)\n",
    "        label = self.labels_df.iloc[idx, 1]\n",
    "        \n",
    "        if self.transform:\n",
    "            image = self.transform(image)\n",
    "        \n",
    "        return image, label\n",
    "\n",
    "# 定义数据预处理\n",
    "transform = transforms.Compose([\n",
    "    transforms.Resize((64, 64)),\n",
    "    transforms.ToTensor(),\n",
    "    transforms.Normalize(mean=[0.485, 0.456, 0.406], std=[0.229, 0.224, 0.225]),\n",
    "])\n",
    "\n",
    "# 加载数据集\n",
    "dataset = WeatherDataset(csv_file=label_file, root_dir=data_dir, transform=transform)\n",
    "\n",
    "# 划分训练集和测试集\n",
    "train_size = int(0.8 * len(dataset))\n",
    "test_size = len(dataset) - train_size\n",
    "train_dataset, test_dataset = random_split(dataset, [train_size, test_size])\n",
    "\n",
    "# 创建数据加载器\n",
    "train_loader = DataLoader(train_dataset, batch_size=32, shuffle=True)\n",
    "test_loader = DataLoader(test_dataset, batch_size=32, shuffle=False)"
   ]
  },
  {
   "cell_type": "code",
   "execution_count": 6,
   "id": "6b18c392-df0f-40e4-b7a3-6772bd0b0ccf",
   "metadata": {},
   "outputs": [],
   "source": [
    "import torch.nn as nn\n",
    "import torch.nn.functional as F\n",
    "\n",
    "class WeatherCNN(nn.Module):\n",
    "    def __init__(self):\n",
    "        super(WeatherCNN, self).__init__()\n",
    "        self.conv1 = nn.Conv2d(3, 32, kernel_size=3, stride=1, padding=1)\n",
    "        self.conv2 = nn.Conv2d(32, 64, kernel_size=3, stride=1, padding=1)\n",
    "        self.pool = nn.MaxPool2d(kernel_size=2, stride=2, padding=0)\n",
    "        self.fc1 = nn.Linear(64 * 16 * 16, 512)\n",
    "        self.fc2 = nn.Linear(512, 6)\n",
    "\n",
    "    def forward(self, x):\n",
    "        x = self.pool(F.relu(self.conv1(x)))\n",
    "        x = self.pool(F.relu(self.conv2(x)))\n",
    "        x = x.view(-1, 64 * 16 * 16)\n",
    "        x = F.relu(self.fc1(x))\n",
    "        x = self.fc2(x)\n",
    "        return x\n",
    "\n",
    "model = WeatherCNN()"
   ]
  },
  {
   "cell_type": "code",
   "execution_count": 7,
   "id": "378ba76b-9cf9-4519-b609-bb0fb9ad4008",
   "metadata": {},
   "outputs": [
    {
     "name": "stdout",
     "output_type": "stream",
     "text": [
      "Epoch [1/10], Loss: 1.3638\n",
      "Epoch [2/10], Loss: 1.0053\n",
      "Epoch [3/10], Loss: 0.8463\n",
      "Epoch [4/10], Loss: 0.6618\n",
      "Epoch [5/10], Loss: 0.4759\n",
      "Epoch [6/10], Loss: 0.2995\n",
      "Epoch [7/10], Loss: 0.1718\n",
      "Epoch [8/10], Loss: 0.0984\n",
      "Epoch [9/10], Loss: 0.0823\n",
      "Epoch [10/10], Loss: 0.0703\n"
     ]
    }
   ],
   "source": [
    "import torch.optim as optim\n",
    "\n",
    "# 定义损失函数和优化器\n",
    "criterion = nn.CrossEntropyLoss()\n",
    "optimizer = optim.Adam(model.parameters(), lr=0.001)\n",
    "\n",
    "# 训练模型\n",
    "num_epochs = 10\n",
    "for epoch in range(num_epochs):\n",
    "    model.train()\n",
    "    running_loss = 0.0\n",
    "    for inputs, labels in train_loader:\n",
    "        optimizer.zero_grad()\n",
    "        outputs = model(inputs)\n",
    "        loss = criterion(outputs, labels)\n",
    "        loss.backward()\n",
    "        optimizer.step()\n",
    "        running_loss += loss.item()\n",
    "    print(f'Epoch [{epoch+1}/{num_epochs}], Loss: {running_loss/len(train_loader):.4f}')"
   ]
  },
  {
   "cell_type": "code",
   "execution_count": 8,
   "id": "ff6839a6-8148-4854-8281-4a5123a03f0b",
   "metadata": {},
   "outputs": [
    {
     "name": "stdout",
     "output_type": "stream",
     "text": [
      "Accuracy: 0.6267\n",
      "Recall: 0.6267\n",
      "F1 Score: 0.6266\n"
     ]
    }
   ],
   "source": [
    "from sklearn.metrics import accuracy_score, recall_score, f1_score\n",
    "\n",
    "# 评估模型\n",
    "model.eval()\n",
    "y_true = []\n",
    "y_pred = []\n",
    "with torch.no_grad():\n",
    "    for inputs, labels in test_loader:\n",
    "        outputs = model(inputs)\n",
    "        _, predicted = torch.max(outputs, 1)\n",
    "        y_true.extend(labels.numpy())\n",
    "        y_pred.extend(predicted.numpy())\n",
    "\n",
    "# 计算评估指标\n",
    "accuracy = accuracy_score(y_true, y_pred)\n",
    "recall = recall_score(y_true, y_pred, average='weighted')\n",
    "f1 = f1_score(y_true, y_pred, average='weighted')\n",
    "\n",
    "print(f'Accuracy: {accuracy:.4f}')\n",
    "print(f'Recall: {recall:.4f}')\n",
    "print(f'F1 Score: {f1:.4f}')"
   ]
  },
  {
   "cell_type": "code",
   "execution_count": 9,
   "id": "4ffa3770-0ef7-41ae-9c92-7ecad6a5e6bb",
   "metadata": {},
   "outputs": [
    {
     "name": "stderr",
     "output_type": "stream",
     "text": [
      "C:\\ProgramData\\Anaconda3\\lib\\site-packages\\torchvision\\models\\_utils.py:208: UserWarning: The parameter 'pretrained' is deprecated since 0.13 and may be removed in the future, please use 'weights' instead.\n",
      "  warnings.warn(\n",
      "C:\\ProgramData\\Anaconda3\\lib\\site-packages\\torchvision\\models\\_utils.py:223: UserWarning: Arguments other than a weight enum or `None` for 'weights' are deprecated since 0.13 and may be removed in the future. The current behavior is equivalent to passing `weights=ResNet18_Weights.IMAGENET1K_V1`. You can also use `weights=ResNet18_Weights.DEFAULT` to get the most up-to-date weights.\n",
      "  warnings.warn(msg)\n",
      "Downloading: \"https://download.pytorch.org/models/resnet18-f37072fd.pth\" to C:\\Users\\admin/.cache\\torch\\hub\\checkpoints\\resnet18-f37072fd.pth\n",
      "100%|█████████████████████████████████████████████████████████████████████████████| 44.7M/44.7M [12:50<00:00, 60.8kB/s]\n"
     ]
    }
   ],
   "source": [
    "# 使用预训练的ResNet模型\n",
    "from torchvision.models import resnet18\n",
    "\n",
    "resnet_model = resnet18(pretrained=True)\n",
    "resnet_model.fc = nn.Linear(resnet_model.fc.in_features, 6)\n",
    "\n",
    "# 训练和评估ResNet模型\n",
    "# ..."
   ]
  },
  {
   "cell_type": "code",
   "execution_count": 10,
   "id": "261792ac-5c3d-478a-a595-1bc21cf91f90",
   "metadata": {},
   "outputs": [],
   "source": [
    "# 增加数据增强\n",
    "transform_augmented = transforms.Compose([\n",
    "    transforms.RandomHorizontalFlip(),\n",
    "    transforms.RandomRotation(10),\n",
    "    transforms.Resize((64, 64)),\n",
    "    transforms.ToTensor(),\n",
    "    transforms.Normalize(mean=[0.485, 0.456, 0.406], std=[0.229, 0.224, 0.225]),\n",
    "])\n",
    "\n",
    "# 重新加载数据集\n",
    "dataset_augmented = WeatherDataset(csv_file=label_file, root_dir=data_dir, transform=transform_augmented)\n",
    "train_dataset_augmented, test_dataset_augmented = random_split(dataset_augmented, [train_size, test_size])\n",
    "train_loader_augmented = DataLoader(train_dataset_augmented, batch_size=32, shuffle=True)\n",
    "test_loader_augmented = DataLoader(test_dataset_augmented, batch_size=32, shuffle=False)\n",
    "\n",
    "# 训练和评估增强后的数据集\n",
    "# ..."
   ]
  },
  {
   "cell_type": "code",
   "execution_count": 11,
   "id": "da8892e7-ae26-4d58-9264-98e4a4466de2",
   "metadata": {},
   "outputs": [
    {
     "name": "stdout",
     "output_type": "stream",
     "text": [
      "Epoch [1/10], Loss: 0.9168\n",
      "Epoch [2/10], Loss: 0.7209\n",
      "Epoch [3/10], Loss: 0.6145\n",
      "Epoch [4/10], Loss: 0.5517\n",
      "Epoch [5/10], Loss: 0.4668\n",
      "Epoch [6/10], Loss: 0.4136\n",
      "Epoch [7/10], Loss: 0.3681\n",
      "Epoch [8/10], Loss: 0.3398\n",
      "Epoch [9/10], Loss: 0.2812\n",
      "Epoch [10/10], Loss: 0.2366\n"
     ]
    }
   ],
   "source": [
    "# 重新训练模型\n",
    "num_epochs = 10\n",
    "for epoch in range(num_epochs):\n",
    "    model.train()\n",
    "    running_loss = 0.0\n",
    "    for inputs, labels in train_loader_augmented:\n",
    "        optimizer.zero_grad()\n",
    "        outputs = model(inputs)\n",
    "        loss = criterion(outputs, labels)\n",
    "        loss.backward()\n",
    "        optimizer.step()\n",
    "        running_loss += loss.item()\n",
    "    print(f'Epoch [{epoch+1}/{num_epochs}], Loss: {running_loss/len(train_loader_augmented):.4f}')"
   ]
  },
  {
   "cell_type": "code",
   "execution_count": 12,
   "id": "d253ed20-60ec-466f-8dc1-f4861af98883",
   "metadata": {},
   "outputs": [
    {
     "name": "stdout",
     "output_type": "stream",
     "text": [
      "Accuracy: 0.7100\n",
      "Recall: 0.7100\n",
      "F1 Score: 0.7126\n"
     ]
    },
    {
     "data": {
      "image/png": "[encoded data removed]",
      "text/plain": [
       "<Figure size 720x576 with 2 Axes>"
      ]
     },
     "metadata": {
      "needs_background": "light"
     },
     "output_type": "display_data"
    }
   ],
   "source": [
    "from sklearn.metrics import accuracy_score, recall_score, f1_score, confusion_matrix\n",
    "import seaborn as sns\n",
    "import matplotlib.pyplot as plt\n",
    "\n",
    "# 评估模型\n",
    "model.eval()\n",
    "y_true = []\n",
    "y_pred = []\n",
    "with torch.no_grad():\n",
    "    for inputs, labels in test_loader_augmented:\n",
    "        outputs = model(inputs)\n",
    "        _, predicted = torch.max(outputs, 1)\n",
    "        y_true.extend(labels.numpy())\n",
    "        y_pred.extend(predicted.numpy())\n",
    "\n",
    "# 计算评估指标\n",
    "accuracy = accuracy_score(y_true, y_pred)\n",
    "recall = recall_score(y_true, y_pred, average='weighted')\n",
    "f1 = f1_score(y_true, y_pred, average='weighted')\n",
    "\n",
    "print(f'Accuracy: {accuracy:.4f}')\n",
    "print(f'Recall: {recall:.4f}')\n",
    "print(f'F1 Score: {f1:.4f}')\n",
    "\n",
    "# 绘制混淆矩阵\n",
    "conf_matrix = confusion_matrix(y_true, y_pred)\n",
    "plt.figure(figsize=(10, 8))\n",
    "sns.heatmap(conf_matrix, annot=True, fmt='d', cmap='Blues', xticklabels=labels_df['name'].unique(), yticklabels=labels_df['name'].unique())\n",
    "plt.xlabel('Predicted')\n",
    "plt.ylabel('True')\n",
    "plt.title('Confusion Matrix')\n",
    "plt.show()"
   ]
  },
  {
   "cell_type": "code",
   "execution_count": null,
   "id": "972670c6-88c5-4f66-92bc-b8fdc1ddca98",
   "metadata": {},
   "outputs": [],
   "source": []
  },
  {
   "cell_type": "code",
   "execution_count": null,
   "id": "9fa5cd49-9416-4966-9ff9-aa7527c31c35",
   "metadata": {},
   "outputs": [],
   "source": []
  },
  {
   "cell_type": "code",
   "execution_count": null,
   "id": "23151e25-0999-4553-bef0-f34376eaf292",
   "metadata": {},
   "outputs": [],
   "source": []
  },
  {
   "cell_type": "code",
   "execution_count": null,
   "id": "c61b1660-6e57-41a4-890c-53ff5f148d13",
   "metadata": {},
   "outputs": [],
   "source": [
    "进一步优化模型"
   ]
  },
  {
   "cell_type": "code",
   "execution_count": 13,
   "id": "0cdcaeb3-805f-432e-b2dd-6a134697f105",
   "metadata": {},
   "outputs": [
    {
     "name": "stderr",
     "output_type": "stream",
     "text": [
      "C:\\ProgramData\\Anaconda3\\lib\\site-packages\\torchvision\\models\\_utils.py:208: UserWarning: The parameter 'pretrained' is deprecated since 0.13 and may be removed in the future, please use 'weights' instead.\n",
      "  warnings.warn(\n",
      "C:\\ProgramData\\Anaconda3\\lib\\site-packages\\torchvision\\models\\_utils.py:223: UserWarning: Arguments other than a weight enum or `None` for 'weights' are deprecated since 0.13 and may be removed in the future. The current behavior is equivalent to passing `weights=ResNet18_Weights.IMAGENET1K_V1`. You can also use `weights=ResNet18_Weights.DEFAULT` to get the most up-to-date weights.\n",
      "  warnings.warn(msg)\n"
     ]
    },
    {
     "name": "stdout",
     "output_type": "stream",
     "text": [
      "Epoch [1/20], Loss: 1.3968\n",
      "Epoch [2/20], Loss: 1.1189\n",
      "Epoch [3/20], Loss: 1.1143\n",
      "Epoch [4/20], Loss: 1.0962\n",
      "Epoch [5/20], Loss: 1.0199\n",
      "Epoch [6/20], Loss: 0.9783\n",
      "Epoch [7/20], Loss: 0.9759\n",
      "Epoch [8/20], Loss: 0.9743\n",
      "Epoch [9/20], Loss: 0.9439\n",
      "Epoch [10/20], Loss: 0.9748\n",
      "Epoch [11/20], Loss: 0.9188\n",
      "Epoch [12/20], Loss: 1.0898\n",
      "Epoch [13/20], Loss: 1.2554\n",
      "Epoch [14/20], Loss: 1.1493\n",
      "Epoch [15/20], Loss: 1.0559\n",
      "Epoch [16/20], Loss: 0.9655\n",
      "Epoch [17/20], Loss: 0.9369\n",
      "Epoch [18/20], Loss: 0.9208\n",
      "Epoch [19/20], Loss: 0.8912\n",
      "Epoch [20/20], Loss: 0.8924\n",
      "Accuracy: 0.6075\n",
      "Recall: 0.6075\n",
      "F1 Score: 0.6028\n"
     ]
    },
    {
     "data": {
      "image/png": "[encoded data removed]",
      "text/plain": [
       "<Figure size 720x576 with 2 Axes>"
      ]
     },
     "metadata": {
      "needs_background": "light"
     },
     "output_type": "display_data"
    }
   ],
   "source": [
    "import os\n",
    "import numpy as np\n",
    "import pandas as pd\n",
    "import torch\n",
    "import torch.nn as nn\n",
    "import torch.optim as optim\n",
    "from torchvision import transforms, datasets\n",
    "from torch.utils.data import DataLoader, Dataset, random_split\n",
    "from torchvision.models import resnet18\n",
    "from sklearn.metrics import accuracy_score, recall_score, f1_score, confusion_matrix\n",
    "import seaborn as sns\n",
    "import matplotlib.pyplot as plt\n",
    "\n",
    "# 定义数据路径\n",
    "data_dir = r\"C:\\Users\\admin\\Desktop\\weather\"\n",
    "label_file = os.path.join(data_dir, \"weather_label.csv\")\n",
    "\n",
    "# 读取标签文件\n",
    "labels_df = pd.read_csv(label_file)\n",
    "\n",
    "# 自定义数据集类\n",
    "class WeatherDataset(Dataset):\n",
    "    def __init__(self, csv_file, root_dir, transform=None):\n",
    "        self.labels_df = pd.read_csv(csv_file)\n",
    "        self.root_dir = root_dir\n",
    "        self.transform = transform\n",
    "\n",
    "    def __len__(self):\n",
    "        return len(self.labels_df)\n",
    "\n",
    "    def __getitem__(self, idx):\n",
    "        img_name = os.path.join(self.root_dir, self.labels_df.iloc[idx, 0])\n",
    "        image = datasets.folder.default_loader(img_name)\n",
    "        label = self.labels_df.iloc[idx, 1]\n",
    "        \n",
    "        if self.transform:\n",
    "            image = self.transform(image)\n",
    "        \n",
    "        return image, label\n",
    "\n",
    "# 定义数据增强\n",
    "transform_augmented = transforms.Compose([\n",
    "    transforms.RandomHorizontalFlip(),\n",
    "    transforms.RandomRotation(10),\n",
    "    transforms.RandomResizedCrop(64),\n",
    "    transforms.ColorJitter(brightness=0.2, contrast=0.2, saturation=0.2, hue=0.2),\n",
    "    transforms.ToTensor(),\n",
    "    transforms.Normalize(mean=[0.485, 0.456, 0.406], std=[0.229, 0.224, 0.225]),\n",
    "])\n",
    "\n",
    "# 加载数据集\n",
    "dataset_augmented = WeatherDataset(csv_file=label_file, root_dir=data_dir, transform=transform_augmented)\n",
    "train_size = int(0.8 * len(dataset_augmented))\n",
    "test_size = len(dataset_augmented) - train_size\n",
    "train_dataset_augmented, test_dataset_augmented = random_split(dataset_augmented, [train_size, test_size])\n",
    "train_loader_augmented = DataLoader(train_dataset_augmented, batch_size=32, shuffle=True)\n",
    "test_loader_augmented = DataLoader(test_dataset_augmented, batch_size=32, shuffle=False)\n",
    "\n",
    "# 使用预训练的ResNet模型\n",
    "resnet_model = resnet18(pretrained=True)\n",
    "resnet_model.fc = nn.Linear(resnet_model.fc.in_features, 6)\n",
    "\n",
    "# 定义损失函数和优化器\n",
    "criterion = nn.CrossEntropyLoss()\n",
    "optimizer = optim.Adam(resnet_model.parameters(), lr=0.001)\n",
    "\n",
    "# 训练模型\n",
    "num_epochs = 20\n",
    "for epoch in range(num_epochs):\n",
    "    resnet_model.train()\n",
    "    running_loss = 0.0\n",
    "    for inputs, labels in train_loader_augmented:\n",
    "        optimizer.zero_grad()\n",
    "        outputs = resnet_model(inputs)\n",
    "        loss = criterion(outputs, labels)\n",
    "        loss.backward()\n",
    "        optimizer.step()\n",
    "        running_loss += loss.item()\n",
    "    print(f'Epoch [{epoch+1}/{num_epochs}], Loss: {running_loss/len(train_loader_augmented):.4f}')\n",
    "\n",
    "# 评估模型\n",
    "resnet_model.eval()\n",
    "y_true = []\n",
    "y_pred = []\n",
    "with torch.no_grad():\n",
    "    for inputs, labels in test_loader_augmented:\n",
    "        outputs = resnet_model(inputs)\n",
    "        _, predicted = torch.max(outputs, 1)\n",
    "        y_true.extend(labels.numpy())\n",
    "        y_pred.extend(predicted.numpy())\n",
    "\n",
    "# 计算评估指标\n",
    "accuracy = accuracy_score(y_true, y_pred)\n",
    "recall = recall_score(y_true, y_pred, average='weighted')\n",
    "f1 = f1_score(y_true, y_pred, average='weighted')\n",
    "\n",
    "print(f'Accuracy: {accuracy:.4f}')\n",
    "print(f'Recall: {recall:.4f}')\n",
    "print(f'F1 Score: {f1:.4f}')\n",
    "\n",
    "# 绘制混淆矩阵\n",
    "conf_matrix = confusion_matrix(y_true, y_pred)\n",
    "plt.figure(figsize=(10, 8))\n",
    "sns.heatmap(conf_matrix, annot=True, fmt='d', cmap='Blues', xticklabels=labels_df['name'].unique(), yticklabels=labels_df['name'].unique())\n",
    "plt.xlabel('Predicted')\n",
    "plt.ylabel('True')\n",
    "plt.title('Confusion Matrix')\n",
    "plt.show()"
   ]
  },
  {
   "cell_type": "code",
   "execution_count": 14,
   "id": "015fe46f-02d2-4488-9cd8-e9e18bd652aa",
   "metadata": {},
   "outputs": [
    {
     "name": "stdout",
     "output_type": "stream",
     "text": [
      "Epoch [1/20], Loss: 0.8958\n",
      "Epoch [2/20], Loss: 0.8730\n",
      "Epoch [3/20], Loss: 0.8561\n",
      "Epoch [4/20], Loss: 0.8605\n",
      "Epoch [5/20], Loss: 0.8347\n",
      "Epoch [6/20], Loss: 0.7677\n",
      "Epoch [7/20], Loss: 0.7369\n",
      "Epoch [8/20], Loss: 0.7186\n",
      "Epoch [9/20], Loss: 0.6916\n",
      "Epoch [10/20], Loss: 0.6932\n",
      "Epoch [11/20], Loss: 0.6857\n",
      "Epoch [12/20], Loss: 0.6877\n",
      "Epoch [13/20], Loss: 0.6716\n",
      "Epoch [14/20], Loss: 0.6722\n",
      "Epoch [15/20], Loss: 0.6767\n",
      "Epoch [16/20], Loss: 0.6666\n",
      "Epoch [17/20], Loss: 0.6817\n",
      "Epoch [18/20], Loss: 0.6909\n",
      "Epoch [19/20], Loss: 0.6798\n",
      "Epoch [20/20], Loss: 0.6728\n"
     ]
    }
   ],
   "source": [
    "from torch.optim.lr_scheduler import StepLR\n",
    "\n",
    "# 定义学习率调度器\n",
    "scheduler = StepLR(optimizer, step_size=5, gamma=0.1)\n",
    "\n",
    "# 训练模型\n",
    "num_epochs = 20\n",
    "for epoch in range(num_epochs):\n",
    "    resnet_model.train()\n",
    "    running_loss = 0.0\n",
    "    for inputs, labels in train_loader_augmented:\n",
    "        optimizer.zero_grad()\n",
    "        outputs = resnet_model(inputs)\n",
    "        loss = criterion(outputs, labels)\n",
    "        loss.backward()\n",
    "        optimizer.step()\n",
    "        running_loss += loss.item()\n",
    "    print(f'Epoch [{epoch+1}/{num_epochs}], Loss: {running_loss/len(train_loader_augmented):.4f}')\n",
    "    scheduler.step()"
   ]
  },
  {
   "cell_type": "code",
   "execution_count": 15,
   "id": "9c9d3c5d-4493-4ba1-8543-87783c28a43c",
   "metadata": {},
   "outputs": [
    {
     "name": "stdout",
     "output_type": "stream",
     "text": [
      "Epoch [1/20], Loss: 1.4048\n",
      "Epoch [2/20], Loss: 1.3096\n",
      "Epoch [3/20], Loss: 1.2842\n",
      "Epoch [4/20], Loss: 1.2607\n",
      "Epoch [5/20], Loss: 1.2191\n",
      "Epoch [6/20], Loss: 1.2046\n",
      "Epoch [7/20], Loss: 1.1840\n",
      "Epoch [8/20], Loss: 1.1968\n",
      "Epoch [9/20], Loss: 1.1777\n",
      "Epoch [10/20], Loss: 1.1555\n",
      "Epoch [11/20], Loss: 1.1568\n",
      "Epoch [12/20], Loss: 1.1613\n",
      "Epoch [13/20], Loss: 1.1363\n",
      "Epoch [14/20], Loss: 1.1546\n",
      "Epoch [15/20], Loss: 1.1086\n",
      "Epoch [16/20], Loss: 1.0924\n",
      "Epoch [17/20], Loss: 1.1210\n",
      "Epoch [18/20], Loss: 1.1036\n",
      "Epoch [19/20], Loss: 1.1111\n",
      "Epoch [20/20], Loss: 1.0933\n"
     ]
    }
   ],
   "source": [
    "class WeatherCNN(nn.Module):\n",
    "    def __init__(self):\n",
    "        super(WeatherCNN, self).__init__()\n",
    "        self.conv1 = nn.Conv2d(3, 32, kernel_size=3, stride=1, padding=1)\n",
    "        self.bn1 = nn.BatchNorm2d(32)\n",
    "        self.conv2 = nn.Conv2d(32, 64, kernel_size=3, stride=1, padding=1)\n",
    "        self.bn2 = nn.BatchNorm2d(64)\n",
    "        self.pool = nn.MaxPool2d(kernel_size=2, stride=2, padding=0)\n",
    "        self.fc1 = nn.Linear(64 * 16 * 16, 512)\n",
    "        self.bn3 = nn.BatchNorm1d(512)\n",
    "        self.dropout = nn.Dropout(0.5)\n",
    "        self.fc2 = nn.Linear(512, 6)\n",
    "\n",
    "    def forward(self, x):\n",
    "        x = self.pool(F.relu(self.bn1(self.conv1(x))))\n",
    "        x = self.pool(F.relu(self.bn2(self.conv2(x))))\n",
    "        x = x.view(-1, 64 * 16 * 16)\n",
    "        x = F.relu(self.bn3(self.fc1(x)))\n",
    "        x = self.dropout(x)\n",
    "        x = self.fc2(x)\n",
    "        return x\n",
    "\n",
    "model = WeatherCNN()\n",
    "\n",
    "# 定义损失函数和优化器\n",
    "criterion = nn.CrossEntropyLoss()\n",
    "optimizer = optim.Adam(model.parameters(), lr=0.001)\n",
    "\n",
    "# 训练模型\n",
    "num_epochs = 20\n",
    "for epoch in range(num_epochs):\n",
    "    model.train()\n",
    "    running_loss = 0.0\n",
    "    for inputs, labels in train_loader_augmented:\n",
    "        optimizer.zero_grad()\n",
    "        outputs = model(inputs)\n",
    "        loss = criterion(outputs, labels)\n",
    "        loss.backward()\n",
    "        optimizer.step()\n",
    "        running_loss += loss.item()\n",
    "    print(f'Epoch [{epoch+1}/{num_epochs}], Loss: {running_loss/len(train_loader_augmented):.4f}')\n",
    "    scheduler.step()"
   ]
  },
  {
   "cell_type": "code",
   "execution_count": 16,
   "id": "3172dedf-9b99-407c-8af5-5a751f3f1cb6",
   "metadata": {},
   "outputs": [
    {
     "name": "stdout",
     "output_type": "stream",
     "text": [
      "Accuracy: 0.7175\n",
      "Recall: 0.7175\n",
      "F1 Score: 0.7164\n"
     ]
    },
    {
     "data": {
      "image/png": "[encoded data removed]",
      "text/plain": [
       "<Figure size 720x576 with 2 Axes>"
      ]
     },
     "metadata": {
      "needs_background": "light"
     },
     "output_type": "display_data"
    }
   ],
   "source": [
    "# 评估模型\n",
    "resnet_model.eval()\n",
    "y_true = []\n",
    "y_pred = []\n",
    "with torch.no_grad():\n",
    "    for inputs, labels in test_loader_augmented:\n",
    "        outputs = resnet_model(inputs)\n",
    "        _, predicted = torch.max(outputs, 1)\n",
    "        y_true.extend(labels.numpy())\n",
    "        y_pred.extend(predicted.numpy())\n",
    "\n",
    "# 计算评估指标\n",
    "accuracy = accuracy_score(y_true, y_pred)\n",
    "recall = recall_score(y_true, y_pred, average='weighted')\n",
    "f1 = f1_score(y_true, y_pred, average='weighted')\n",
    "\n",
    "print(f'Accuracy: {accuracy:.4f}')\n",
    "print(f'Recall: {recall:.4f}')\n",
    "print(f'F1 Score: {f1:.4f}')\n",
    "\n",
    "# 绘制混淆矩阵\n",
    "conf_matrix = confusion_matrix(y_true, y_pred)\n",
    "plt.figure(figsize=(10, 8))\n",
    "sns.heatmap(conf_matrix, annot=True, fmt='d', cmap='Blues', xticklabels=labels_df['name'].unique(), yticklabels=labels_df['name'].unique())\n",
    "plt.xlabel('Predicted')\n",
    "plt.ylabel('True')\n",
    "plt.title('Confusion Matrix')\n",
    "plt.show()"
   ]
  },
  {
   "cell_type": "code",
   "execution_count": null,
   "id": "4594b1ab-65d2-488d-af14-7b7909ab0b29",
   "metadata": {},
   "outputs": [],
   "source": []
  }
 ],
 "metadata": {
  "kernelspec": {
   "display_name": "Python 3 (ipykernel)",
   "language": "python",
   "name": "python3"
  },
  "language_info": {
   "codemirror_mode": {
    "name": "ipython",
    "version": 3
   },
   "file_extension": ".py",
   "mimetype": "text/x-python",
   "name": "python",
   "nbconvert_exporter": "python",
   "pygments_lexer": "ipython3",
   "version": "3.9.7"
  }
 },
 "nbformat": 4,
 "nbformat_minor": 5
}
